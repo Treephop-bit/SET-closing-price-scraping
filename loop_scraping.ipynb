{
 "cells": [
  {
   "cell_type": "code",
   "execution_count": 50,
   "metadata": {},
   "outputs": [],
   "source": [
    "from selenium import webdriver\n",
    "from selenium.webdriver.chrome.service import Service\n",
    "from selenium.webdriver.common.by import By\n",
    "from selenium.webdriver.support.ui import WebDriverWait, Select\n",
    "from selenium.webdriver.support import expected_conditions as EC\n",
    "from selenium.common.exceptions import TimeoutException, NoSuchElementException\n",
    "from selenium.webdriver.common.action_chains import ActionChains\n",
    "from selenium.webdriver.common.keys import Keys\n",
    "import pandas as pd\n",
    "import numpy as np\n",
    "import time"
   ]
  },
  {
   "cell_type": "code",
   "execution_count": 51,
   "metadata": {},
   "outputs": [],
   "source": [
    "path = r'C:\\Users\\ken25\\OneDrive\\Desktop\\01_Python\\web_scrabling\\chromedriver.exe'\n",
    "service = Service(path)\n",
    "\n",
    "driver = webdriver.Chrome(service=service)"
   ]
  },
  {
   "cell_type": "code",
   "execution_count": 52,
   "metadata": {},
   "outputs": [
    {
     "data": {
      "text/plain": [
       "['APP',\n",
       " 'BBIK',\n",
       " 'BE8',\n",
       " 'BVG',\n",
       " 'COMAN',\n",
       " 'I2',\n",
       " 'IIG',\n",
       " 'IRCP',\n",
       " 'ITNS',\n",
       " 'NAT',\n",
       " 'NETBAY',\n",
       " 'PLANET',\n",
       " 'PROEN',\n",
       " 'READY',\n",
       " 'SECURE',\n",
       " 'SICT',\n",
       " 'SIMAT',\n",
       " 'SPVI',\n",
       " 'SRS',\n",
       " 'TBN',\n",
       " 'TERA',\n",
       " 'TPS',\n",
       " 'VCOM']"
      ]
     },
     "execution_count": 52,
     "metadata": {},
     "output_type": "execute_result"
    }
   ],
   "source": [
    "df = pd.read_excel('mai_tech.xlsx',index_col=1)\n",
    "stocks = df.index.to_list()\n",
    "stocks"
   ]
  },
  {
   "cell_type": "code",
   "execution_count": 53,
   "metadata": {},
   "outputs": [],
   "source": [
    "#driver.get('https://www.settrade.com/th/equities/quote/TOP/historical-trading')"
   ]
  },
  {
   "cell_type": "code",
   "execution_count": 54,
   "metadata": {},
   "outputs": [],
   "source": [
    "#driver.execute_script(\"window.scrollBy(0, 1100)\")\n",
    "\n",
    "#time.sleep(5)\n",
    "#elements = WebDriverWait(driver, 10).until(EC.presence_of_all_elements_located((By.CLASS_NAME, \"multiselect__tags\")))\n",
    "#elements[1].click()\n",
    "\n",
    "#time.sleep(2)\n",
    "#elements = WebDriverWait(driver, 10).until(EC.presence_of_all_elements_located((By.CLASS_NAME, \"multiselect__element\")))\n",
    "#elements[6].click()"
   ]
  },
  {
   "cell_type": "code",
   "execution_count": 55,
   "metadata": {},
   "outputs": [
    {
     "name": "stderr",
     "output_type": "stream",
     "text": [
      "C:\\Users\\ken25\\AppData\\Local\\Temp\\ipykernel_14328\\1826724218.py:32: FutureWarning: Passing literal html to 'read_html' is deprecated and will be removed in a future version. To read from a literal string, wrap it in a 'StringIO' object.\n",
      "  data_df = pd.read_html(data)[1]\n",
      "C:\\Users\\ken25\\AppData\\Local\\Temp\\ipykernel_14328\\1826724218.py:32: FutureWarning: Passing literal html to 'read_html' is deprecated and will be removed in a future version. To read from a literal string, wrap it in a 'StringIO' object.\n",
      "  data_df = pd.read_html(data)[1]\n",
      "C:\\Users\\ken25\\AppData\\Local\\Temp\\ipykernel_14328\\1826724218.py:32: FutureWarning: Passing literal html to 'read_html' is deprecated and will be removed in a future version. To read from a literal string, wrap it in a 'StringIO' object.\n",
      "  data_df = pd.read_html(data)[1]\n",
      "C:\\Users\\ken25\\AppData\\Local\\Temp\\ipykernel_14328\\1826724218.py:32: FutureWarning: Passing literal html to 'read_html' is deprecated and will be removed in a future version. To read from a literal string, wrap it in a 'StringIO' object.\n",
      "  data_df = pd.read_html(data)[1]\n",
      "C:\\Users\\ken25\\AppData\\Local\\Temp\\ipykernel_14328\\1826724218.py:32: FutureWarning: Passing literal html to 'read_html' is deprecated and will be removed in a future version. To read from a literal string, wrap it in a 'StringIO' object.\n",
      "  data_df = pd.read_html(data)[1]\n",
      "C:\\Users\\ken25\\AppData\\Local\\Temp\\ipykernel_14328\\1826724218.py:32: FutureWarning: Passing literal html to 'read_html' is deprecated and will be removed in a future version. To read from a literal string, wrap it in a 'StringIO' object.\n",
      "  data_df = pd.read_html(data)[1]\n",
      "C:\\Users\\ken25\\AppData\\Local\\Temp\\ipykernel_14328\\1826724218.py:32: FutureWarning: Passing literal html to 'read_html' is deprecated and will be removed in a future version. To read from a literal string, wrap it in a 'StringIO' object.\n",
      "  data_df = pd.read_html(data)[1]\n",
      "C:\\Users\\ken25\\AppData\\Local\\Temp\\ipykernel_14328\\1826724218.py:32: FutureWarning: Passing literal html to 'read_html' is deprecated and will be removed in a future version. To read from a literal string, wrap it in a 'StringIO' object.\n",
      "  data_df = pd.read_html(data)[1]\n",
      "C:\\Users\\ken25\\AppData\\Local\\Temp\\ipykernel_14328\\1826724218.py:32: FutureWarning: Passing literal html to 'read_html' is deprecated and will be removed in a future version. To read from a literal string, wrap it in a 'StringIO' object.\n",
      "  data_df = pd.read_html(data)[1]\n",
      "C:\\Users\\ken25\\AppData\\Local\\Temp\\ipykernel_14328\\1826724218.py:32: FutureWarning: Passing literal html to 'read_html' is deprecated and will be removed in a future version. To read from a literal string, wrap it in a 'StringIO' object.\n",
      "  data_df = pd.read_html(data)[1]\n",
      "C:\\Users\\ken25\\AppData\\Local\\Temp\\ipykernel_14328\\1826724218.py:32: FutureWarning: Passing literal html to 'read_html' is deprecated and will be removed in a future version. To read from a literal string, wrap it in a 'StringIO' object.\n",
      "  data_df = pd.read_html(data)[1]\n",
      "C:\\Users\\ken25\\AppData\\Local\\Temp\\ipykernel_14328\\1826724218.py:32: FutureWarning: Passing literal html to 'read_html' is deprecated and will be removed in a future version. To read from a literal string, wrap it in a 'StringIO' object.\n",
      "  data_df = pd.read_html(data)[1]\n",
      "C:\\Users\\ken25\\AppData\\Local\\Temp\\ipykernel_14328\\1826724218.py:32: FutureWarning: Passing literal html to 'read_html' is deprecated and will be removed in a future version. To read from a literal string, wrap it in a 'StringIO' object.\n",
      "  data_df = pd.read_html(data)[1]\n",
      "C:\\Users\\ken25\\AppData\\Local\\Temp\\ipykernel_14328\\1826724218.py:32: FutureWarning: Passing literal html to 'read_html' is deprecated and will be removed in a future version. To read from a literal string, wrap it in a 'StringIO' object.\n",
      "  data_df = pd.read_html(data)[1]\n",
      "C:\\Users\\ken25\\AppData\\Local\\Temp\\ipykernel_14328\\1826724218.py:32: FutureWarning: Passing literal html to 'read_html' is deprecated and will be removed in a future version. To read from a literal string, wrap it in a 'StringIO' object.\n",
      "  data_df = pd.read_html(data)[1]\n",
      "C:\\Users\\ken25\\AppData\\Local\\Temp\\ipykernel_14328\\1826724218.py:32: FutureWarning: Passing literal html to 'read_html' is deprecated and will be removed in a future version. To read from a literal string, wrap it in a 'StringIO' object.\n",
      "  data_df = pd.read_html(data)[1]\n",
      "C:\\Users\\ken25\\AppData\\Local\\Temp\\ipykernel_14328\\1826724218.py:32: FutureWarning: Passing literal html to 'read_html' is deprecated and will be removed in a future version. To read from a literal string, wrap it in a 'StringIO' object.\n",
      "  data_df = pd.read_html(data)[1]\n",
      "C:\\Users\\ken25\\AppData\\Local\\Temp\\ipykernel_14328\\1826724218.py:32: FutureWarning: Passing literal html to 'read_html' is deprecated and will be removed in a future version. To read from a literal string, wrap it in a 'StringIO' object.\n",
      "  data_df = pd.read_html(data)[1]\n",
      "C:\\Users\\ken25\\AppData\\Local\\Temp\\ipykernel_14328\\1826724218.py:32: FutureWarning: Passing literal html to 'read_html' is deprecated and will be removed in a future version. To read from a literal string, wrap it in a 'StringIO' object.\n",
      "  data_df = pd.read_html(data)[1]\n",
      "C:\\Users\\ken25\\AppData\\Local\\Temp\\ipykernel_14328\\1826724218.py:32: FutureWarning: Passing literal html to 'read_html' is deprecated and will be removed in a future version. To read from a literal string, wrap it in a 'StringIO' object.\n",
      "  data_df = pd.read_html(data)[1]\n",
      "C:\\Users\\ken25\\AppData\\Local\\Temp\\ipykernel_14328\\1826724218.py:32: FutureWarning: Passing literal html to 'read_html' is deprecated and will be removed in a future version. To read from a literal string, wrap it in a 'StringIO' object.\n",
      "  data_df = pd.read_html(data)[1]\n",
      "C:\\Users\\ken25\\AppData\\Local\\Temp\\ipykernel_14328\\1826724218.py:32: FutureWarning: Passing literal html to 'read_html' is deprecated and will be removed in a future version. To read from a literal string, wrap it in a 'StringIO' object.\n",
      "  data_df = pd.read_html(data)[1]\n",
      "C:\\Users\\ken25\\AppData\\Local\\Temp\\ipykernel_14328\\1826724218.py:32: FutureWarning: Passing literal html to 'read_html' is deprecated and will be removed in a future version. To read from a literal string, wrap it in a 'StringIO' object.\n",
      "  data_df = pd.read_html(data)[1]\n"
     ]
    },
    {
     "name": "stdout",
     "output_type": "stream",
     "text": [
      "Data has been written to stock_data.xlsx\n"
     ]
    }
   ],
   "source": [
    "base_url = 'https://www.settrade.com/th/equities/quote/{}/historical-trading'\n",
    "\n",
    "# Initialize an empty dictionary to store the dataframes\n",
    "\n",
    "all_data =[]\n",
    "\n",
    "# Loop through each stock symbol\n",
    "for stock in stocks:\n",
    "    # Construct the URL\n",
    "    url = base_url.format(stock)\n",
    "    driver.get(url)\n",
    "    time.sleep(15)\n",
    "    driver.execute_script(\"window.scrollBy(0, 1400)\")\n",
    "\n",
    "    time.sleep(7)\n",
    "    elements = WebDriverWait(driver, 10).until(EC.presence_of_all_elements_located((By.CLASS_NAME, \"multiselect__tags\")))\n",
    "    time.sleep(7)\n",
    "    elements[1].click()\n",
    "\n",
    "    \n",
    "    elements = WebDriverWait(driver, 10).until(EC.presence_of_all_elements_located((By.CLASS_NAME, \"multiselect__element\")))\n",
    "    time.sleep(10)\n",
    "    elements[-1].click()\n",
    "\n",
    "    time.sleep(7)\n",
    "    \n",
    "    \n",
    "    # Get page source\n",
    "    data = driver.page_source\n",
    "    \n",
    "    # Parse HTML table into DataFrame\n",
    "    data_df = pd.read_html(data)[1]\n",
    "    \n",
    "    # Clean column names\n",
    "    clean_column = []\n",
    "    for c in data_df.columns:\n",
    "        clean_column.append(c.replace('  (Click to sort Ascending)', ''))\n",
    "    data_df.columns = clean_column\n",
    "    \n",
    "    # Set index to 'วันที่'\n",
    "    data_df = data_df.set_index('วันที่')\n",
    "    \n",
    "    # Filter rows and columns\n",
    "    dates = ['30 ก.ย. 2567']\n",
    "    data_df = data_df.loc[data_df.index.intersection(dates), ['ราคาปิด']]\n",
    "    #data_df = data_df.loc[dates, ['ราคาปิด']]\n",
    "    \n",
    "    # Transpose DataFrame and replace the first column name with the stock symbol\n",
    "    data_df = data_df.transpose()\n",
    "    data_df.index = [stock]\n",
    "    \n",
    "\n",
    "    \n",
    "    all_data.append(data_df)\n",
    "\n",
    "# Close the driver\n",
    "driver.quit()\n",
    "\n",
    "# Concatenate all DataFrames\n",
    "combined_data = pd.concat(all_data)\n",
    "\n",
    "# Write the combined DataFrame to a single sheet in an Excel file\n",
    "combined_data.to_excel('stock_data_mai_tech-09.xlsx', sheet_name='All Stocks')\n",
    "\n",
    "print(\"Data has been written to stock_data.xlsx\")\n",
    "\n"
   ]
  },
  {
   "cell_type": "code",
   "execution_count": 56,
   "metadata": {},
   "outputs": [],
   "source": [
    "\n",
    "#data = driver.page_source\n",
    "#data_df = pd.read_html(data)[1]\n",
    "#clean_column = []\n",
    "#for c in data_df.columns:\n",
    "#   clean_column.append(c.replace('  (Click to sort Ascending)',''))\n",
    "\n",
    "#data_df.columns = clean_column\n",
    "#data_df = data_df.set_index('วันที่')\n",
    "\n",
    "#data_df = data_df.loc[['9 ม.ค. 2567','31 ม.ค. 2567','29 ก.พ. 2567','29 มี.ค. 2567','30 เม.ย. 2567','31 พ.ค. 2567','28 มิ.ย. 2567'],['ราคาปิด']]\n",
    "#data_df.transpose()"
   ]
  },
  {
   "cell_type": "code",
   "execution_count": null,
   "metadata": {},
   "outputs": [],
   "source": []
  }
 ],
 "metadata": {
  "kernelspec": {
   "display_name": "Python 3",
   "language": "python",
   "name": "python3"
  },
  "language_info": {
   "codemirror_mode": {
    "name": "ipython",
    "version": 3
   },
   "file_extension": ".py",
   "mimetype": "text/x-python",
   "name": "python",
   "nbconvert_exporter": "python",
   "pygments_lexer": "ipython3",
   "version": "3.12.3"
  }
 },
 "nbformat": 4,
 "nbformat_minor": 2
}
