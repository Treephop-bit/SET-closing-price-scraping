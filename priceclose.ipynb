{
 "cells": [
  {
   "cell_type": "code",
   "execution_count": 4,
   "metadata": {},
   "outputs": [],
   "source": [
    "from selenium import webdriver\n",
    "from selenium.webdriver.chrome.service import Service\n",
    "from selenium.webdriver.common.by import By\n",
    "from selenium.webdriver.support.ui import WebDriverWait, Select\n",
    "from selenium.webdriver.support import expected_conditions as EC\n",
    "from selenium.common.exceptions import TimeoutException, NoSuchElementException\n",
    "from selenium.webdriver.common.action_chains import ActionChains\n",
    "from selenium.webdriver.common.keys import Keys\n",
    "import pandas as pd"
   ]
  },
  {
   "cell_type": "code",
   "execution_count": 5,
   "metadata": {},
   "outputs": [],
   "source": [
    "path = r'C:\\Users\\ken25\\OneDrive\\Desktop\\01_Python\\web_scrabling\\chromedriver.exe'\n",
    "service = Service(path)\n",
    "\n",
    "driver = webdriver.Chrome(service=service)"
   ]
  },
  {
   "cell_type": "code",
   "execution_count": null,
   "metadata": {},
   "outputs": [],
   "source": []
  },
  {
   "cell_type": "code",
   "execution_count": 6,
   "metadata": {},
   "outputs": [],
   "source": [
    "driver.get('https://th.investing.com/equities/ptt-historical-data')"
   ]
  },
  {
   "cell_type": "code",
   "execution_count": 14,
   "metadata": {},
   "outputs": [
    {
     "data": {
      "text/plain": [
       "['ADVANC',\n",
       " 'AOT',\n",
       " 'AWC',\n",
       " 'BBL',\n",
       " 'BCP',\n",
       " 'BDMS',\n",
       " 'BEM',\n",
       " 'BGRIM',\n",
       " 'BH',\n",
       " 'BJC',\n",
       " 'BTS',\n",
       " 'CBG',\n",
       " 'CENTEL',\n",
       " 'CPALL',\n",
       " 'CPF',\n",
       " 'CPN',\n",
       " 'CRC',\n",
       " 'DELTA',\n",
       " 'EA',\n",
       " 'EGCO',\n",
       " 'GLOBAL',\n",
       " 'GPSC',\n",
       " 'GULF',\n",
       " 'HMPRO',\n",
       " 'INTUCH',\n",
       " 'ITC',\n",
       " 'IVL',\n",
       " 'KBANK',\n",
       " 'KTB',\n",
       " 'KTC',\n",
       " 'LH',\n",
       " 'MINT',\n",
       " 'MTC',\n",
       " 'OR',\n",
       " 'OSP',\n",
       " 'PTT',\n",
       " 'PTTEP',\n",
       " 'PTTGC',\n",
       " 'RATCH',\n",
       " 'SCB',\n",
       " 'SCC',\n",
       " 'SCGP',\n",
       " 'TIDLOR',\n",
       " 'TISCO',\n",
       " 'TLI',\n",
       " 'TOP',\n",
       " 'TRUE',\n",
       " 'TTB',\n",
       " 'TU',\n",
       " 'WHA']"
      ]
     },
     "execution_count": 14,
     "metadata": {},
     "output_type": "execute_result"
    }
   ],
   "source": [
    "df = pd.read_excel('set50.xlsx')\n",
    "stock_symbols = df['หลักทรัพย์'].tolist()\n",
    "stock_symbols"
   ]
  },
  {
   "cell_type": "code",
   "execution_count": null,
   "metadata": {},
   "outputs": [],
   "source": [
    "base_url ="
   ]
  }
 ],
 "metadata": {
  "kernelspec": {
   "display_name": "Python 3",
   "language": "python",
   "name": "python3"
  },
  "language_info": {
   "codemirror_mode": {
    "name": "ipython",
    "version": 3
   },
   "file_extension": ".py",
   "mimetype": "text/x-python",
   "name": "python",
   "nbconvert_exporter": "python",
   "pygments_lexer": "ipython3",
   "version": "3.12.3"
  }
 },
 "nbformat": 4,
 "nbformat_minor": 2
}
