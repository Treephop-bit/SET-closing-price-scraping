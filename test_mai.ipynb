{
 "cells": [
  {
   "cell_type": "code",
   "execution_count": 3,
   "metadata": {},
   "outputs": [
    {
     "name": "stderr",
     "output_type": "stream",
     "text": [
      "C:\\Users\\ken25\\AppData\\Local\\Temp\\ipykernel_47952\\2211182906.py:46: FutureWarning: Passing literal html to 'read_html' is deprecated and will be removed in a future version. To read from a literal string, wrap it in a 'StringIO' object.\n",
      "  data_df = pd.read_html(data)[0]\n"
     ]
    },
    {
     "name": "stdout",
     "output_type": "stream",
     "text": [
      "Extracted data for agro\n"
     ]
    },
    {
     "name": "stderr",
     "output_type": "stream",
     "text": [
      "C:\\Users\\ken25\\AppData\\Local\\Temp\\ipykernel_47952\\2211182906.py:46: FutureWarning: Passing literal html to 'read_html' is deprecated and will be removed in a future version. To read from a literal string, wrap it in a 'StringIO' object.\n",
      "  data_df = pd.read_html(data)[0]\n"
     ]
    },
    {
     "name": "stdout",
     "output_type": "stream",
     "text": [
      "Extracted data for consump\n"
     ]
    },
    {
     "name": "stderr",
     "output_type": "stream",
     "text": [
      "C:\\Users\\ken25\\AppData\\Local\\Temp\\ipykernel_47952\\2211182906.py:46: FutureWarning: Passing literal html to 'read_html' is deprecated and will be removed in a future version. To read from a literal string, wrap it in a 'StringIO' object.\n",
      "  data_df = pd.read_html(data)[0]\n"
     ]
    },
    {
     "name": "stdout",
     "output_type": "stream",
     "text": [
      "Extracted data for fincial\n"
     ]
    },
    {
     "name": "stderr",
     "output_type": "stream",
     "text": [
      "C:\\Users\\ken25\\AppData\\Local\\Temp\\ipykernel_47952\\2211182906.py:46: FutureWarning: Passing literal html to 'read_html' is deprecated and will be removed in a future version. To read from a literal string, wrap it in a 'StringIO' object.\n",
      "  data_df = pd.read_html(data)[0]\n"
     ]
    },
    {
     "name": "stdout",
     "output_type": "stream",
     "text": [
      "Extracted data for indus\n"
     ]
    },
    {
     "name": "stderr",
     "output_type": "stream",
     "text": [
      "C:\\Users\\ken25\\AppData\\Local\\Temp\\ipykernel_47952\\2211182906.py:46: FutureWarning: Passing literal html to 'read_html' is deprecated and will be removed in a future version. To read from a literal string, wrap it in a 'StringIO' object.\n",
      "  data_df = pd.read_html(data)[0]\n"
     ]
    },
    {
     "name": "stdout",
     "output_type": "stream",
     "text": [
      "Extracted data for propcon\n"
     ]
    },
    {
     "name": "stderr",
     "output_type": "stream",
     "text": [
      "C:\\Users\\ken25\\AppData\\Local\\Temp\\ipykernel_47952\\2211182906.py:46: FutureWarning: Passing literal html to 'read_html' is deprecated and will be removed in a future version. To read from a literal string, wrap it in a 'StringIO' object.\n",
      "  data_df = pd.read_html(data)[0]\n"
     ]
    },
    {
     "name": "stdout",
     "output_type": "stream",
     "text": [
      "Extracted data for resour\n"
     ]
    },
    {
     "name": "stderr",
     "output_type": "stream",
     "text": [
      "C:\\Users\\ken25\\AppData\\Local\\Temp\\ipykernel_47952\\2211182906.py:46: FutureWarning: Passing literal html to 'read_html' is deprecated and will be removed in a future version. To read from a literal string, wrap it in a 'StringIO' object.\n",
      "  data_df = pd.read_html(data)[0]\n"
     ]
    },
    {
     "name": "stdout",
     "output_type": "stream",
     "text": [
      "Extracted data for serv\n"
     ]
    },
    {
     "name": "stderr",
     "output_type": "stream",
     "text": [
      "C:\\Users\\ken25\\AppData\\Local\\Temp\\ipykernel_47952\\2211182906.py:46: FutureWarning: Passing literal html to 'read_html' is deprecated and will be removed in a future version. To read from a literal string, wrap it in a 'StringIO' object.\n",
      "  data_df = pd.read_html(data)[0]\n"
     ]
    },
    {
     "name": "stdout",
     "output_type": "stream",
     "text": [
      "Extracted data for tech\n",
      "Data has been written to stock_data.xlsx\n"
     ]
    }
   ],
   "source": [
    "import time\n",
    "import pandas as pd\n",
    "from selenium import webdriver\n",
    "from selenium.webdriver.chrome.service import Service\n",
    "from selenium.webdriver.common.by import By\n",
    "from selenium.webdriver.support.ui import WebDriverWait\n",
    "from selenium.webdriver.support import expected_conditions as EC\n",
    "\n",
    "# Path to the ChromeDriver\n",
    "path = r'C:\\Users\\ken25\\OneDrive\\Desktop\\01_Python\\web_scrabling\\chromedriver.exe'\n",
    "service = Service(path)\n",
    "\n",
    "# Initialize the Chrome driver\n",
    "driver = webdriver.Chrome(service=service)\n",
    "driver.get('https://www.settrade.com/th/equities/market-data/overview?market=mai&category=Index&index=mai')\n",
    "\n",
    "# XPaths for the dropdown elements\n",
    "dropdowns = {\n",
    "    \"agro\": \"/html/body/div[1]/div/div/div[2]/div[3]/div/div/div[2]/div/div[2]/table/tbody/tr[1]/td[1]\",\n",
    "    \"consump\": \"/html/body/div[1]/div/div/div[2]/div[3]/div/div/div[2]/div/div[2]/table/tbody/tr[14]/td[1]/div\",\n",
    "    \"fincial\": \"/html/body/div[1]/div/div/div[2]/div[3]/div/div/div[2]/div/div[2]/table/tbody/tr[34]/td[1]/div\",\n",
    "    \"indus\": \"/html/body/div[1]/div/div/div[2]/div[3]/div/div/div[2]/div/div[2]/table/tbody/tr[46]/td[1]/div\",\n",
    "    \"propcon\": \"/html/body/div[1]/div/div/div[2]/div[3]/div/div/div[2]/div/div[2]/table/tbody/tr[93]/td[1]/div\",\n",
    "    \"resour\": \"/html/body/div[1]/div/div/div[2]/div[3]/div/div/div[2]/div/div[2]/table/tbody/tr[136]/td[1]/div\",\n",
    "    \"serv\": \"/html/body/div[1]/div/div/div[2]/div[3]/div/div/div[2]/div/div[2]/table/tbody/tr[147]/td[1]/div\",\n",
    "    \"tech\": \"/html/body/div[1]/div/div/div[2]/div[3]/div/div/div[2]/div/div[2]/table/tbody/tr[207]/td[1]/div\"\n",
    "}\n",
    "\n",
    "# Function to click the dropdown and extract the data\n",
    "def extract_table_data(dropdown_xpath, scroll_offset):\n",
    "    # Scroll to the position where the dropdown is visible\n",
    "    driver.execute_script(f\"window.scrollBy(0, {scroll_offset})\")\n",
    "    time.sleep(1)  # Give it a moment to scroll\n",
    "\n",
    "    # Ensure the element is in view\n",
    "    element = WebDriverWait(driver, 10).until(EC.visibility_of_element_located((By.XPATH, dropdown_xpath)))\n",
    "    driver.execute_script(\"arguments[0].scrollIntoView(true);\", element)\n",
    "    time.sleep(1)  # Give it a moment to scroll into view\n",
    "\n",
    "    # Click the element using JavaScript to bypass potential overlay issues\n",
    "    driver.execute_script(\"arguments[0].click();\", element)\n",
    "    time.sleep(10)  # Wait for the table to load\n",
    "\n",
    "    # Extract the table data\n",
    "    data = driver.page_source\n",
    "    data_df = pd.read_html(data)[0]\n",
    "\n",
    "    return data_df\n",
    "\n",
    "# Initialize a dictionary to store dataframes\n",
    "dataframes = {}\n",
    "\n",
    "# Scroll offsets for each dropdown (adjust these values as needed)\n",
    "scroll_offsets = {\n",
    "    \"agro\": 1000,\n",
    "    \"consump\": 2000,\n",
    "    \"fincial\": 3000,\n",
    "    \"indus\": 4000,\n",
    "    \"propcon\": 5000,\n",
    "    \"resour\": 6000,\n",
    "    \"serv\": 7000,\n",
    "    \"tech\": 8000\n",
    "}\n",
    "\n",
    "# Loop through each dropdown and extract data\n",
    "for name, xpath in dropdowns.items():\n",
    "    try:\n",
    "        scroll_offset = scroll_offsets[name]\n",
    "        df = extract_table_data(xpath, scroll_offset)\n",
    "        dataframes[name] = df\n",
    "        print(f\"Extracted data for {name}\")\n",
    "    except Exception as e:\n",
    "        print(f\"Failed to extract data for {name}: {e}\")\n",
    "\n",
    "# Combine all dataframes into a single Excel file with multiple sheets\n",
    "with pd.ExcelWriter('stock_data.xlsx') as writer:\n",
    "    for name, df in dataframes.items():\n",
    "        df.to_excel(writer, sheet_name=name)\n",
    "\n",
    "print(\"Data has been written to stock_data.xlsx\")\n",
    "\n",
    "# Close the driver\n",
    "driver.quit()\n"
   ]
  },
  {
   "cell_type": "code",
   "execution_count": null,
   "metadata": {},
   "outputs": [],
   "source": []
  }
 ],
 "metadata": {
  "kernelspec": {
   "display_name": "Python 3",
   "language": "python",
   "name": "python3"
  },
  "language_info": {
   "codemirror_mode": {
    "name": "ipython",
    "version": 3
   },
   "file_extension": ".py",
   "mimetype": "text/x-python",
   "name": "python",
   "nbconvert_exporter": "python",
   "pygments_lexer": "ipython3",
   "version": "3.12.3"
  }
 },
 "nbformat": 4,
 "nbformat_minor": 2
}
